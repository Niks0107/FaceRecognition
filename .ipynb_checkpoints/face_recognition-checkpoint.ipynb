{
 "cells": [
  {
   "cell_type": "code",
   "execution_count": 1,
   "metadata": {},
   "outputs": [
    {
     "name": "stderr",
     "output_type": "stream",
     "text": [
      "Using TensorFlow backend.\n"
     ]
    }
   ],
   "source": [
    "import os\n",
    "import pandas as pd\n",
    "import numpy as np\n",
    "import keras\n",
    "from keras.layers import *\n",
    "from keras.applications import inception_v3\n",
    "from keras.preprocessing.image import ImageDataGenerator\n",
    "from keras.models import Model, Sequential\n",
    "import matplotlib.pyplot as plt\n",
    "from sklearn.metrics import accuracy_score,confusion_matrix"
   ]
  },
  {
   "cell_type": "code",
   "execution_count": 2,
   "metadata": {},
   "outputs": [
    {
     "data": {
      "text/plain": [
       "'C:\\\\Users\\\\thaku\\\\OneDrive\\\\Desktop\\\\Insofe Internship\\\\Task 4\\\\face_recognition'"
      ]
     },
     "execution_count": 2,
     "metadata": {},
     "output_type": "execute_result"
    }
   ],
   "source": [
    "CurrentDir = os.getcwd()\n",
    "CurrentDir"
   ]
  },
  {
   "cell_type": "code",
   "execution_count": 3,
   "metadata": {},
   "outputs": [],
   "source": [
    "TrainDir = os.path.join(CurrentDir,\"Train\")\n",
    "TestDir = os.path.join(CurrentDir,\"Test\")"
   ]
  },
  {
   "cell_type": "code",
   "execution_count": 4,
   "metadata": {},
   "outputs": [],
   "source": [
    "train_folders = os.listdir(TrainDir)\n",
    "test_folders = os.listdir(TestDir)"
   ]
  },
  {
   "cell_type": "code",
   "execution_count": 5,
   "metadata": {},
   "outputs": [
    {
     "data": {
      "text/plain": [
       "['9326871',\n",
       " '9332898',\n",
       " '9336923',\n",
       " '9338519',\n",
       " '9338527',\n",
       " '9338535',\n",
       " '9338543',\n",
       " '9414649',\n",
       " '9416994',\n",
       " 'admars',\n",
       " 'ahodki',\n",
       " 'ajflem',\n",
       " 'ajones',\n",
       " 'ajsega',\n",
       " 'akatsi',\n",
       " 'ambarw',\n",
       " 'anonym',\n",
       " 'anonym1',\n",
       " 'anonym2',\n",
       " 'asheal',\n",
       " 'astefa',\n",
       " 'bplyce',\n",
       " 'cchris',\n",
       " 'ccjame']"
      ]
     },
     "execution_count": 5,
     "metadata": {},
     "output_type": "execute_result"
    }
   ],
   "source": [
    "train_folders"
   ]
  },
  {
   "cell_type": "code",
   "execution_count": 6,
   "metadata": {},
   "outputs": [],
   "source": [
    "DataGen = ImageDataGenerator(rescale = 1./255,shear_range = 0.2,zoom_range = 0.2,horizontal_flip = True)"
   ]
  },
  {
   "cell_type": "code",
   "execution_count": 14,
   "metadata": {},
   "outputs": [
    {
     "name": "stdout",
     "output_type": "stream",
     "text": [
      "Found 429 images belonging to 24 classes.\n",
      "Found 54 images belonging to 7 classes.\n"
     ]
    }
   ],
   "source": [
    "TrainSet = DataGen.flow_from_directory(TrainDir,target_size=(299,299), batch_size=32,class_mode=\"categorical\")\n",
    "TestSet = DataGen.flow_from_directory(TestDir,target_size=(299,299), batch_size=32,class_mode=\"categorical\")"
   ]
  },
  {
   "cell_type": "code",
   "execution_count": 15,
   "metadata": {},
   "outputs": [],
   "source": [
    "model = inception_v3.InceptionV3(include_top = False, input_shape = (299,299,3))"
   ]
  },
  {
   "cell_type": "code",
   "execution_count": 16,
   "metadata": {},
   "outputs": [],
   "source": [
    "for layer in model.layers:\n",
    "    layer.trainable = False"
   ]
  },
  {
   "cell_type": "code",
   "execution_count": 17,
   "metadata": {},
   "outputs": [],
   "source": [
    "x = Flatten()(model.output)"
   ]
  },
  {
   "cell_type": "code",
   "execution_count": 18,
   "metadata": {},
   "outputs": [],
   "source": [
    "prediction = Dense(len(train_folders), activation = \"softmax\")(x)"
   ]
  },
  {
   "cell_type": "code",
   "execution_count": 19,
   "metadata": {},
   "outputs": [],
   "source": [
    "model = Model(model.input,prediction)"
   ]
  },
  {
   "cell_type": "code",
   "execution_count": 20,
   "metadata": {},
   "outputs": [
    {
     "name": "stdout",
     "output_type": "stream",
     "text": [
      "Epoch 1/2\n",
      "14/14 [==============================] - 192s 14s/step - loss: 15.1716 - accuracy: 0.4802\n",
      "Epoch 2/2\n",
      "14/14 [==============================] - 147s 10s/step - loss: 1.6756 - accuracy: 0.8974\n"
     ]
    },
    {
     "data": {
      "text/plain": [
       "<keras.callbacks.callbacks.History at 0x1fdcbf5b240>"
      ]
     },
     "execution_count": 20,
     "metadata": {},
     "output_type": "execute_result"
    }
   ],
   "source": [
    "model.compile(optimizer=\"adam\",loss=\"categorical_crossentropy\", metrics=[\"accuracy\"])\n",
    "model.fit(TrainSet, epochs=2, steps_per_epoch=len(TrainSet))"
   ]
  },
  {
   "cell_type": "code",
   "execution_count": 21,
   "metadata": {},
   "outputs": [
    {
     "data": {
      "text/plain": [
       "array([[1.4912537e-25, 3.5431921e-23, 4.2387882e-29, ..., 9.9999821e-01,\n",
       "        0.0000000e+00, 0.0000000e+00],\n",
       "       [3.3570209e-11, 6.7446565e-15, 1.6207187e-16, ..., 7.2738433e-01,\n",
       "        0.0000000e+00, 4.2188269e-32],\n",
       "       [8.3228119e-15, 2.8776636e-08, 1.5404232e-15, ..., 6.6630673e-01,\n",
       "        9.7757854e-37, 1.2362184e-28],\n",
       "       ...,\n",
       "       [9.7764043e-15, 1.2929491e-18, 8.6216648e-21, ..., 2.8529251e-04,\n",
       "        0.0000000e+00, 2.7981621e-34],\n",
       "       [2.0516543e-25, 7.7507827e-25, 1.1131806e-28, ..., 9.9999678e-01,\n",
       "        0.0000000e+00, 1.3005459e-37],\n",
       "       [2.8652552e-13, 2.3015042e-23, 1.8490197e-17, ..., 8.1449533e-01,\n",
       "        0.0000000e+00, 0.0000000e+00]], dtype=float32)"
      ]
     },
     "execution_count": 21,
     "metadata": {},
     "output_type": "execute_result"
    }
   ],
   "source": [
    "model.predict(TestSet)"
   ]
  },
  {
   "cell_type": "code",
   "execution_count": 23,
   "metadata": {},
   "outputs": [
    {
     "data": {
      "text/plain": [
       "array(['anonym1', 'bplyce', 'bplyce', 'bplyce', 'bplyce', '9338543',\n",
       "       '9338543', '9338543', '9338543', 'bplyce', 'bplyce', 'bplyce',\n",
       "       'bplyce', '9338543', 'bplyce', 'bplyce', 'bplyce', 'bplyce',\n",
       "       '9416994', 'bplyce', 'anonym1', 'bplyce', 'bplyce', 'bplyce',\n",
       "       '9338543', '9338543', '9338543', 'bplyce', '9338543', 'bplyce',\n",
       "       'bplyce', 'bplyce', 'bplyce', 'bplyce', '9338543', 'bplyce',\n",
       "       'bplyce', 'bplyce', '9338543', 'bplyce', 'bplyce', '9338543',\n",
       "       'bplyce', 'bplyce', 'bplyce', '9338543', '9338543', 'bplyce',\n",
       "       'bplyce', 'bplyce', 'bplyce', 'bplyce', 'bplyce', '9338543'],\n",
       "      dtype='<U7')"
      ]
     },
     "execution_count": 23,
     "metadata": {},
     "output_type": "execute_result"
    }
   ],
   "source": [
    "test_pred = []\n",
    "for i in np.argmax(model.predict(TestSet),axis=1):\n",
    "    test_pred.append(train_folders[i])\n",
    "\n",
    "test_pred = np.array(test_pred)\n",
    "test_pred"
   ]
  },
  {
   "cell_type": "code",
   "execution_count": 24,
   "metadata": {},
   "outputs": [
    {
     "data": {
      "text/plain": [
       "['9326871', '9338535', 'ahodki', 'ambarw', 'anonym2', 'asheal', 'ccjami']"
      ]
     },
     "execution_count": 24,
     "metadata": {},
     "output_type": "execute_result"
    }
   ],
   "source": [
    "test_folders"
   ]
  },
  {
   "cell_type": "code",
   "execution_count": 25,
   "metadata": {},
   "outputs": [
    {
     "data": {
      "text/plain": [
       "array(['9326871', '9326871', '9326871', '9326871', '9326871', '9326871',\n",
       "       '9326871', '9338535', '9338535', '9338535', '9338535', '9338535',\n",
       "       '9338535', '9338535', '9338535', 'ahodki', 'ahodki', 'ahodki',\n",
       "       'ahodki', 'ahodki', 'ahodki', 'ahodki', 'ahodki', 'ambarw',\n",
       "       'ambarw', 'ambarw', 'ambarw', 'ambarw', 'ambarw', 'ambarw',\n",
       "       'ambarw', 'anonym2', 'anonym2', 'anonym2', 'anonym2', 'anonym2',\n",
       "       'anonym2', 'anonym2', 'asheal', 'asheal', 'asheal', 'asheal',\n",
       "       'asheal', 'asheal', 'asheal', 'asheal', 'ccjami', 'ccjami',\n",
       "       'ccjami', 'ccjami', 'ccjami', 'ccjami', 'ccjami', 'ccjami'],\n",
       "      dtype='<U7')"
      ]
     },
     "execution_count": 25,
     "metadata": {},
     "output_type": "execute_result"
    }
   ],
   "source": [
    "actuals = []\n",
    "for i in test_folders:\n",
    "    for j in os.listdir(os.path.join(TestDir,i)):\n",
    "        actuals.append(i)\n",
    "        \n",
    "actuals = np.array(actuals)\n",
    "actuals"
   ]
  },
  {
   "cell_type": "code",
   "execution_count": 26,
   "metadata": {},
   "outputs": [
    {
     "name": "stdout",
     "output_type": "stream",
     "text": [
      "54\n",
      "54\n"
     ]
    }
   ],
   "source": [
    "print(len(actuals))\n",
    "print(len(test_pred))"
   ]
  },
  {
   "cell_type": "code",
   "execution_count": 28,
   "metadata": {},
   "outputs": [
    {
     "name": "stdout",
     "output_type": "stream",
     "text": [
      "0.0\n"
     ]
    }
   ],
   "source": [
    "print(accuracy_score(actuals,test_pred))\n"
   ]
  }
 ],
 "metadata": {
  "kernelspec": {
   "display_name": "Python 3",
   "language": "python",
   "name": "python3"
  },
  "language_info": {
   "codemirror_mode": {
    "name": "ipython",
    "version": 3
   },
   "file_extension": ".py",
   "mimetype": "text/x-python",
   "name": "python",
   "nbconvert_exporter": "python",
   "pygments_lexer": "ipython3",
   "version": "3.6.9"
  }
 },
 "nbformat": 4,
 "nbformat_minor": 2
}
